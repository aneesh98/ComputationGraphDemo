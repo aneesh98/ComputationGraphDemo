{
  "nbformat": 4,
  "nbformat_minor": 0,
  "metadata": {
    "colab": {
      "name": "DLFW.ipynb",
      "provenance": [],
      "authorship_tag": "ABX9TyNO0swcVx4wbinANtROeEEe",
      "include_colab_link": true
    },
    "kernelspec": {
      "name": "python3",
      "display_name": "Python 3"
    }
  },
  "cells": [
    {
      "cell_type": "markdown",
      "metadata": {
        "id": "view-in-github",
        "colab_type": "text"
      },
      "source": [
        "<a href=\"https://colab.research.google.com/github/aneesh98/ComputationGraphDemo/blob/master/DLFW.ipynb\" target=\"_parent\"><img src=\"https://colab.research.google.com/assets/colab-badge.svg\" alt=\"Open In Colab\"/></a>"
      ]
    },
    {
      "cell_type": "code",
      "metadata": {
        "id": "3AWZ9fbE404q",
        "colab_type": "code",
        "colab": {
          "base_uri": "https://localhost:8080/",
          "height": 70
        },
        "outputId": "a5c70b1c-ad14-4254-cbf4-b678474f8b92"
      },
      "source": [
        "import numpy as np\n",
        "class Tensor(object):\n",
        "  def __init__(self, data, autograd = False, creators = None, creation_op = None, id = None):\n",
        "    self.data = np.array(data)\n",
        "    self.creation_op = creation_op\n",
        "    self.creators = creators\n",
        "    self.grad = None\n",
        "    self.autograd = autograd\n",
        "    self.children = {}\n",
        "    if (id is None):\n",
        "      id = np.random.randint(0,100000)\n",
        "    self.id = id\n",
        "    if creators is not None:\n",
        "      for c in creators:\n",
        "        if(self.id not in c.children):\n",
        "          c.children[self.id] = 1\n",
        "        else:\n",
        "          c.children[self.id] += 1\n",
        "  \n",
        "  def all_children_grads_accounted_for(self):\n",
        "    for id,cnt in self.children.items():\n",
        "      if cnt != 0:\n",
        "        return False\n",
        "    return True\n",
        "\n",
        "  def backward(self, grad = None, grad_origin = None):\n",
        "    if (self.autograd):\n",
        "      if (grad_origin is not None):\n",
        "        if (self.children[grad_origin.id] == 0):\n",
        "          raise Exception(\"Cannot backprop more than once\")\n",
        "        else:\n",
        "          self.children[grad_origin.id] -= 1\n",
        "      if (self.grad is None):\n",
        "        self.grad = grad\n",
        "      else:\n",
        "        self.grad += grad\n",
        "    if(self.creators is not None and (self.all_children_grads_accounted_for() or grad_origin is None)):\n",
        "      if (self.creation_op == \"add\"):\n",
        "        self.creators[0].backward(self.grad, self)\n",
        "        self.creators[1].backward(self.grad, self)\n",
        "      if (self.creation_op == \"neg\"):\n",
        "        self.creators[0].backward(self.grad.__neg__())\n",
        "      if (self.creation_op == \"sub\"):\n",
        "        new = Tensor(self.grad.data)\n",
        "        self.creators[0].backward(new, self)\n",
        "        new = Tensor(self.grad.__neg__().data)\n",
        "        self.creators[1].backward(new, self)\n",
        "      if (self.creation_op == \"mul\"):\n",
        "        new = self.grad * self.creators[1]\n",
        "        self.creators[0].backward(new, self)\n",
        "        new = self.grad * self.creators[0]\n",
        "        self.creators[1].backward(new, self)\n",
        "\n",
        "      if(self.creation_op == \"mm\"):\n",
        "        act = self.creators[0]\n",
        "        weights = self.creators[1]\n",
        "        new = self.grad.mm(weights.transpose())\n",
        "        act.backward(new)\n",
        "        new = self.grad.transpose().mm(act).transpose()\n",
        "        weights.backward(new)\n",
        "\n",
        "      if(self.creation_op == \"transpose\"):\n",
        "        self.creators[0].backward(self.grad.transpose())\n",
        "                    \n",
        "      if(\"sum\" in self.creation_op):\n",
        "        dim = int(self.creation_op.split(\"_\")[1])\n",
        "        ds = self.creators[0].data.shape[dim]\n",
        "        self.creators[0].backward(self.grad.expand(dim,ds))\n",
        "\n",
        "      if(\"expand\" in self.creation_op):\n",
        "        dim = int(self.creation_op.split(\"_\")[1])\n",
        "        self.creators[0].backward(self.grad.sum(dim))\n",
        "  def get_parents(self):\n",
        "    if self.creators is not None:\n",
        "      for c in self.creators:\n",
        "        print(c.id)\n",
        "    else:\n",
        "      raise Exception(\"No parent :( :(\")\n",
        "  \n",
        "  def __add__(self, other):\n",
        "    if self.autograd and other.autograd:\n",
        "\n",
        "      return Tensor(self.data + other.data, autograd = True, creators = [self, other], creation_op = \"add\")\n",
        "    return Tensor(self.data + other.data)\n",
        "  \n",
        "  def __neg__(self):\n",
        "    if(self.autograd):\n",
        "      return Tensor(self.data*-1, autograd = True, creators = [self], creation_op = \"neg\")\n",
        "    return Tensor(self.data * -1)\n",
        "\n",
        "  def __sub__(self, other):\n",
        "    if (self.autograd and other.autograd):\n",
        "      return Tensor(self.data - other.data, autograd = True, creators = [self, other], creation_op = \"sub\")\n",
        "    return Tensor(self.data - other.data)\n",
        "  \n",
        "  def __mul__(self, other):\n",
        "    if (self.autograd and other.autograd):\n",
        "      return Tensor(self.data * other.data ,autograd = True, creators = [self, other], creation_op = \"mul\")\n",
        "    return Tensor(self.data * other.data)\n",
        "  \n",
        "  def expand(self, dim, copies):\n",
        "    trans_cmd = list(range(0, len(self.data.shape)))\n",
        "    trans_cmd.insert(dim, len(self.data.shape))\n",
        "    new_shape = list(self.data.shape) + [copies]\n",
        "    new_data = self.data.repeat(copies).reshape(new_shape)\n",
        "    new_data = new_data.transpose(trans_cmd)\n",
        "    if (self.autograd):\n",
        "      return Tensor(new_data, autograd = True, creators = [self], creation_op = \"expand_\"+str(dim))\n",
        "    return Tensor(new_data)\n",
        "  \n",
        "  def transpose(self):\n",
        "    if (self.autograd):\n",
        "      return Tensor(self.data.transpose(), autograd = True, creators = [self], creation_op = \"transpose\")\n",
        "    return Tensor(self.data.transpose())\n",
        "\n",
        "  def mm(self, x):\n",
        "    if (self.autograd):\n",
        "      return Tensor(self.data.dot(x.data), autograd = True, creators = [self, x], creation_op = \"mm\")\n",
        "\n",
        "  def sum(self, dim):\n",
        "    if (self.autograd):\n",
        "      return Tensor(self.data.sum(dim), autograd=True, creators = [self], creation_op = \"sum_\"+str(dim))\n",
        "    return Tensor(self.data.sum(dim))\n",
        "  \n",
        "  def __repr__(self):\n",
        "    return str(self.data.__repr__())\n",
        "  \n",
        "  def __str__(self):\n",
        "    return str(self.data.__str__())\n",
        "\n",
        "a = Tensor([1,2,3,4,5], autograd=True)\n",
        "b = Tensor([2,2,2,2,2], autograd=True)\n",
        "c = Tensor([5,4,3,2,1], autograd=True)\n",
        "d = a + b\n",
        "e = b + c\n",
        "f = d + e\n",
        "print(\"a:\", a.id, \"b:\", b.id, \"c:\", c.id, \"d:\", d.id, \"e:\", e.id, \"f:\", f.id)\n",
        "# print(a.get_parents())\n",
        "print(b.children)\n",
        "\n",
        "f.backward(Tensor(np.array([1,1,1,1,1])))\n",
        "# f.backward(Tensor(np.array([3,3,3,3,3])))\n",
        "print(b.grad.data == np.array([2,2,2,2,2]))"
      ],
      "execution_count": 24,
      "outputs": [
        {
          "output_type": "stream",
          "text": [
            "a: 78997 b: 34100 c: 39948 d: 15669 e: 95581 f: 2717\n",
            "{15669: 1, 95581: 1}\n",
            "[ True  True  True  True  True]\n"
          ],
          "name": "stdout"
        }
      ]
    },
    {
      "cell_type": "code",
      "metadata": {
        "id": "ppfDbD6aUTQI",
        "colab_type": "code",
        "colab": {
          "base_uri": "https://localhost:8080/",
          "height": 87
        },
        "outputId": "6f4a5329-4ca7-4e23-9731-1f8750246bf8"
      },
      "source": [
        "x = Tensor([1,2,3,4])\n",
        "print(x.expand(dim=1, copies =2))"
      ],
      "execution_count": 26,
      "outputs": [
        {
          "output_type": "stream",
          "text": [
            "[[1 1]\n",
            " [2 2]\n",
            " [3 3]\n",
            " [4 4]]\n"
          ],
          "name": "stdout"
        }
      ]
    }
  ]
}